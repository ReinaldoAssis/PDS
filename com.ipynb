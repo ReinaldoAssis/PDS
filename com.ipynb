{
 "cells": [
  {
   "cell_type": "code",
   "execution_count": null,
   "metadata": {},
   "outputs": [],
   "source": [
    "import serial\n",
    "import serial.tools.list_ports\n",
    "import time\n",
    "\n",
    "# Função para encontrar a porta onde a ESP32 está conectada\n",
    "def find_esp32_port():\n",
    "    ports = list(serial.tools.list_ports.comports())\n",
    "    for port in ports:\n",
    "        if \"ESP32\" in port.description or \"CP210x\" in port.description:  # Descrição do driver da ESP32\n",
    "            return port.device\n",
    "    return None\n",
    "\n",
    "# Função para se comunicar com a ESP32\n",
    "def communicate_with_esp32():\n",
    "    esp32_port = find_esp32_port()\n",
    "\n",
    "    if esp32_port:\n",
    "        print(f\"ESP32 encontrada na porta {esp32_port}\")\n",
    "        with serial.Serial(esp32_port, 115200, timeout=1) as esp32:\n",
    "            while True:\n",
    "                # Ler a mensagem enviada pela ESP32\n",
    "                if esp32.in_waiting > 0:\n",
    "                    message = esp32.readline().decode('utf-8').strip()\n",
    "                    if message:\n",
    "                        print(f\"Mensagem da ESP32: {message}\")\n",
    "\n",
    "                time.sleep(1)  # Esperar 1 segundo antes de checar novamente\n",
    "    else:\n",
    "        print(\"Nenhuma ESP32 encontrada\")\n",
    "\n",
    "# Iniciar comunicação com a ESP32\n",
    "communicate_with_esp32()"
   ]
  }
 ],
 "metadata": {
  "language_info": {
   "name": "python"
  }
 },
 "nbformat": 4,
 "nbformat_minor": 2
}
